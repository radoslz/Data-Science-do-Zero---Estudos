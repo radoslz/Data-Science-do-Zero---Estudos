{
 "cells": [
  {
   "cell_type": "code",
   "execution_count": 2,
   "metadata": {},
   "outputs": [],
   "source": [
    "# Data Dump\n",
    "users = [\n",
    "{\"id\": 0, \"name\": \"Hero\"},\n",
    "{\"id\": 1, \"name\": \"Dunn\"},\n",
    "{\"id\": 2, \"name\": \"Sue\"},\n",
    "{\"id\": 3, \"name\": \"Joao\"},\n",
    "{\"id\": 4, \"name\": \"Paulo\"},\n",
    "{\"id\": 5, \"name\": \"Pedro\"},\n",
    "{\"id\": 6, \"name\": \"Xavier\"},\n",
    "{\"id\": 7, \"name\": \"Luiza\"},\n",
    "{\"id\": 8, \"name\": \"Bruno\"},\n",
    "{\"id\": 9, \"name\": \"Victor\"}]\n",
    "\n",
    "# Duplas das amizades\n",
    "\n",
    "friendship_pairs = [(0,1),(0,2),(1,2),(1,3),(2,3),(3,4),(4,5),(5,6),(5,7),(6,8),(7,8),(8,9)]"
   ]
  },
  {
   "cell_type": "code",
   "execution_count": 3,
   "metadata": {},
   "outputs": [],
   "source": [
    "# inicializando dict com uma lista vazia para cada id dos users\n",
    "friendship = {user[\"id\"]:[] for user in users}\n",
    "\n",
    "# em seguida executando loop pelos pares de amigos para preencer o dict\n",
    "for i, j in friendship_pairs:\n",
    "    friendship[i].append(j)\n",
    "    friendship[j].append(i)"
   ]
  },
  {
   "cell_type": "code",
   "execution_count": 8,
   "metadata": {},
   "outputs": [],
   "source": [
    "# qual o numero médio de conexões?\n",
    "def number_of_friends(user):\n",
    "    \"\"\"Qauntos amigos tem o _user_?\"\"\"\n",
    "    user_id = user[\"id\"]\n",
    "    frineds_ids = friendship[user_id]\n",
    "    return len(frineds_ids)\n",
    "\n",
    "total_conections = sum(number_of_friends(user) for user in users)"
   ]
  },
  {
   "cell_type": "code",
   "execution_count": 9,
   "metadata": {},
   "outputs": [
    {
     "data": {
      "text/plain": [
       "24"
      ]
     },
     "execution_count": 9,
     "metadata": {},
     "output_type": "execute_result"
    }
   ],
   "source": [
    "total_conections"
   ]
  },
  {
   "cell_type": "code",
   "execution_count": null,
   "metadata": {},
   "outputs": [],
   "source": []
  }
 ],
 "metadata": {
  "kernelspec": {
   "display_name": "Python 3.10.1 64-bit",
   "language": "python",
   "name": "python3"
  },
  "language_info": {
   "codemirror_mode": {
    "name": "ipython",
    "version": 3
   },
   "file_extension": ".py",
   "mimetype": "text/x-python",
   "name": "python",
   "nbconvert_exporter": "python",
   "pygments_lexer": "ipython3",
   "version": "3.10.1"
  },
  "orig_nbformat": 4,
  "vscode": {
   "interpreter": {
    "hash": "91c364b5c3ace2f7c2cb2c56dbc0e63856be904f9bff131306da731aceebbfe6"
   }
  }
 },
 "nbformat": 4,
 "nbformat_minor": 2
}
